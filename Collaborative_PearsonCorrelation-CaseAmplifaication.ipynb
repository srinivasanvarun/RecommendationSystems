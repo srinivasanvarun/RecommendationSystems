{
 "cells": [
  {
   "cell_type": "code",
   "execution_count": 18,
   "metadata": {
    "collapsed": true
   },
   "outputs": [],
   "source": [
    "import numpy as np\n",
    "from numpy import linalg as la"
   ]
  },
  {
   "cell_type": "markdown",
   "metadata": {},
   "source": [
    "#### Load data from train and test files"
   ]
  },
  {
   "cell_type": "code",
   "execution_count": 19,
   "metadata": {
    "collapsed": true
   },
   "outputs": [],
   "source": [
    "def get_train_data():\n",
    "    file = open('traindata/train.txt', 'r')\n",
    "    train = []\n",
    "    for line in file:\n",
    "        line = line.rstrip('\\n')\n",
    "        l = [int(e) for e in line.split('\\t')]\n",
    "        train.append(np.transpose(l))\n",
    "    file.close()\n",
    "    return train"
   ]
  },
  {
   "cell_type": "code",
   "execution_count": 20,
   "metadata": {
    "collapsed": true
   },
   "outputs": [],
   "source": [
    "def get_test_data(filename):\n",
    "    file = open('testdata/'+filename+'.txt', 'r')\n",
    "    testdata = np.zeros([100,1000])\n",
    "    ind = []\n",
    "    original_test_data = []\n",
    "    indexes = []\n",
    "    prev = 0\n",
    "    for line in file:\n",
    "        line = line.rstrip('\\n')\n",
    "        l = [int(e) for e in line.split(' ')]\n",
    "        original_test_data.append(l)\n",
    "        if prev == 0:\n",
    "            index = l[0]\n",
    "        if prev != l[0]:\n",
    "            prev = l[0]\n",
    "            if len(ind) > 0:\n",
    "                indexes.append(np.transpose(ind))\n",
    "                ind = []\n",
    "        else:\n",
    "            if l[2] == 0:\n",
    "                ind.append(l[1]-1)\n",
    "        testdata[prev-index][l[1]-1] = l[2]\n",
    "        if l[2] == 0:\n",
    "            testdata[prev-index][l[1]-1] = -1\n",
    "    file.close()\n",
    "    indexes.append(np.transpose(ind))\n",
    "    return original_test_data, indexes, testdata"
   ]
  },
  {
   "cell_type": "markdown",
   "metadata": {},
   "source": [
    "#### Methods to find similar users"
   ]
  },
  {
   "cell_type": "code",
   "execution_count": 21,
   "metadata": {
    "collapsed": true
   },
   "outputs": [],
   "source": [
    "# Find if the train user has a movie rating available\n",
    "def does_rating_exist_to_predict(train,test_index):\n",
    "    return True if train[test_index] != 0 else False"
   ]
  },
  {
   "cell_type": "code",
   "execution_count": 22,
   "metadata": {
    "collapsed": true
   },
   "outputs": [],
   "source": [
    "# Find count of available ratings for finding similarity\n",
    "def num_coexisting_ratings(train,test):\n",
    "    count = 0\n",
    "    for i in range(len(train)):\n",
    "        if train[i] != 0 and test[i] != 0:\n",
    "            count += 1\n",
    "    return count"
   ]
  },
  {
   "cell_type": "code",
   "execution_count": 23,
   "metadata": {
    "collapsed": true
   },
   "outputs": [],
   "source": [
    "# Return test&train user ratings by eliminating unknown ratings of test user\n",
    "def return_filtered_vectors(train, test, test_indexes):\n",
    "    train_new = np.delete(train, test_indexes, 1)\n",
    "    test_new = np.delete(test, test_indexes)\n",
    "    return train_new, test_new"
   ]
  },
  {
   "cell_type": "code",
   "execution_count": 24,
   "metadata": {
    "collapsed": true
   },
   "outputs": [],
   "source": [
    "# Return cosine similarity between ratings of test and train user\n",
    "def find_cosine_similarity(vec1,vec2):\n",
    "    vec1 = vec1 - return_average(vec1)\n",
    "    vec2 = vec2 - return_average(vec2)\n",
    "    weight = np.dot(vec1,vec2)/(la.norm(vec1)*la.norm(vec2))\n",
    "    return weight*(np.abs(weight)**1.5)"
   ]
  },
  {
   "cell_type": "code",
   "execution_count": 25,
   "metadata": {
    "collapsed": true
   },
   "outputs": [],
   "source": [
    "# Return average from the given ratings\n",
    "def return_average(test):\n",
    "    return np.sum(test)/np.count_nonzero(test)"
   ]
  },
  {
   "cell_type": "code",
   "execution_count": 26,
   "metadata": {
    "collapsed": true
   },
   "outputs": [],
   "source": [
    "# Predict rating\n",
    "def predict_rating(train, train_new, similarities, itemid):\n",
    "    nr = 0\n",
    "    dr = 0\n",
    "    k = 10 if len(similarities) > 10 else len(similarities)\n",
    "    for i in range(k):\n",
    "        nr += similarities[i][0]*(train[similarities[i][1]][itemid]-return_average(train_new[similarities[i][1]]))\n",
    "        dr += abs(similarities[i][0])\n",
    "    x = int(round(nr/dr))\n",
    "    if x > 5:\n",
    "        x = 5\n",
    "    elif x < 1:\n",
    "        x = 1\n",
    "    return x"
   ]
  },
  {
   "cell_type": "code",
   "execution_count": 27,
   "metadata": {
    "collapsed": true
   },
   "outputs": [],
   "source": [
    "# Get list of similar items for one test user\n",
    "def get_ratings_of_items(train, test, test_indexes):\n",
    "    rating = []\n",
    "    train_new, test_new = return_filtered_vectors(train, test, test_indexes)\n",
    "    avg = int(round(return_average(test_new)))\n",
    "    for i in test_indexes:\n",
    "        sim = []\n",
    "        for j in range(200):\n",
    "            if does_rating_exist_to_predict(train[j],i):\n",
    "                if num_coexisting_ratings(train_new[j],test_new) > 1:\n",
    "                    sim.append([find_cosine_similarity(train_new[j],test_new), j])\n",
    "        sim = sorted(sim)\n",
    "        if len(sim) > 0:\n",
    "            r = avg+predict_rating(train, train_new, sim, i)\n",
    "            rating.append(int(round(r)))\n",
    "        else:\n",
    "            rating.append(avg)\n",
    "    return rating"
   ]
  },
  {
   "cell_type": "code",
   "execution_count": 28,
   "metadata": {
    "collapsed": true
   },
   "outputs": [],
   "source": [
    "# Replace zeros with predicted ratings\n",
    "def insert_predicted_ratings(org_data, startindex, ratingsarray):\n",
    "    for i in range(len(ratingsarray)):\n",
    "        org_data[startindex][2] = ratingsarray[i]\n",
    "        startindex += 1\n",
    "    return startindex, org_data"
   ]
  },
  {
   "cell_type": "markdown",
   "metadata": {},
   "source": [
    "## Generate result files"
   ]
  },
  {
   "cell_type": "code",
   "execution_count": 29,
   "metadata": {
    "collapsed": true
   },
   "outputs": [],
   "source": [
    "traindata = get_train_data()\n",
    "org_test_data, test_indexes, testdata = get_test_data('test5')\n",
    "ind = 0\n",
    "for i in range(100):\n",
    "    rat = get_ratings_of_items(traindata, testdata[i], test_indexes[i])\n",
    "    ind, org_test_data = insert_predicted_ratings(org_test_data, ind+5, rat)\n",
    "np.savetxt('output/test5.txt', org_test_data, fmt='%d')"
   ]
  },
  {
   "cell_type": "code",
   "execution_count": 30,
   "metadata": {
    "collapsed": true
   },
   "outputs": [],
   "source": [
    "traindata = get_train_data()\n",
    "org_test_data, test_indexes, testdata = get_test_data('test10')\n",
    "ind = 0\n",
    "for i in range(100):\n",
    "    rat = get_ratings_of_items(traindata, testdata[i], test_indexes[i])\n",
    "    ind, org_test_data = insert_predicted_ratings(org_test_data, ind+10, rat)\n",
    "np.savetxt('output/test10.txt', org_test_data, fmt='%d')"
   ]
  },
  {
   "cell_type": "code",
   "execution_count": 31,
   "metadata": {
    "collapsed": true
   },
   "outputs": [],
   "source": [
    "traindata = get_train_data()\n",
    "org_test_data, test_indexes, testdata = get_test_data('test20')\n",
    "ind = 0\n",
    "for i in range(100):\n",
    "    rat = get_ratings_of_items(traindata, testdata[i], test_indexes[i])\n",
    "    ind, org_test_data = insert_predicted_ratings(org_test_data, ind+20, rat)\n",
    "np.savetxt('output/test20.txt', org_test_data, fmt='%d')"
   ]
  },
  {
   "cell_type": "code",
   "execution_count": null,
   "metadata": {
    "collapsed": true
   },
   "outputs": [],
   "source": []
  }
 ],
 "metadata": {
  "kernelspec": {
   "display_name": "Python 3",
   "language": "python",
   "name": "python3"
  },
  "language_info": {
   "codemirror_mode": {
    "name": "ipython",
    "version": 3
   },
   "file_extension": ".py",
   "mimetype": "text/x-python",
   "name": "python",
   "nbconvert_exporter": "python",
   "pygments_lexer": "ipython3",
   "version": "3.6.2"
  }
 },
 "nbformat": 4,
 "nbformat_minor": 2
}
