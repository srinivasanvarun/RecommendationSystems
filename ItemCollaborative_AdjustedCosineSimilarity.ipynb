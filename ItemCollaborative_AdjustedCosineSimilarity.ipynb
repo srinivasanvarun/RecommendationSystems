{
 "cells": [
  {
   "cell_type": "code",
   "execution_count": 56,
   "metadata": {
    "collapsed": true
   },
   "outputs": [],
   "source": [
    "import numpy as np\n",
    "from numpy import linalg as la"
   ]
  },
  {
   "cell_type": "markdown",
   "metadata": {},
   "source": [
    "#### Load data from train and test files"
   ]
  },
  {
   "cell_type": "code",
   "execution_count": 57,
   "metadata": {
    "collapsed": true
   },
   "outputs": [],
   "source": [
    "def get_train_data():\n",
    "    file = open('traindata/train.txt', 'r')\n",
    "    train = []\n",
    "    for line in file:\n",
    "        line = line.rstrip('\\n')\n",
    "        l = [int(e) for e in line.split('\\t')]\n",
    "        train.append(np.transpose(l))\n",
    "    file.close()\n",
    "    return train"
   ]
  },
  {
   "cell_type": "code",
   "execution_count": 58,
   "metadata": {
    "collapsed": true
   },
   "outputs": [],
   "source": [
    "def get_test_data(filename):\n",
    "    file = open('testdata/'+filename+'.txt', 'r')\n",
    "    testdata = np.zeros([100,1000])\n",
    "    ind = []\n",
    "    original_test_data = []\n",
    "    indexes = []\n",
    "    prev = 0\n",
    "    for line in file:\n",
    "        line = line.rstrip('\\n')\n",
    "        l = [int(e) for e in line.split(' ')]\n",
    "        original_test_data.append(l)\n",
    "        if prev == 0:\n",
    "            index = l[0]\n",
    "        if prev != l[0]:\n",
    "            prev = l[0]\n",
    "            if len(ind) > 0:\n",
    "                indexes.append(np.transpose(ind))\n",
    "                ind = []\n",
    "        else:\n",
    "            if l[2] == 0:\n",
    "                ind.append(l[1]-1)\n",
    "        testdata[prev-index][l[1]-1] = l[2]\n",
    "    file.close()\n",
    "    indexes.append(np.transpose(ind))\n",
    "    return original_test_data, indexes, testdata"
   ]
  },
  {
   "cell_type": "markdown",
   "metadata": {},
   "source": [
    "#### Methods to find similar users"
   ]
  },
  {
   "cell_type": "code",
   "execution_count": 59,
   "metadata": {
    "collapsed": true
   },
   "outputs": [],
   "source": [
    "# Find count of available ratings for finding similarity\n",
    "def num_coexisting_ratings(train1,train2):\n",
    "    count = 0\n",
    "    for i in range(len(train1)):\n",
    "        if train1[i] != 0 and train2[i] != 0:\n",
    "            count += 1\n",
    "    return count"
   ]
  },
  {
   "cell_type": "code",
   "execution_count": 60,
   "metadata": {
    "collapsed": true
   },
   "outputs": [],
   "source": [
    "# Find if the train user has a movie rating available\n",
    "def get_rated_indices(test):\n",
    "    rated_indices = []\n",
    "    for i in range(len(test)):\n",
    "        if test[i] != 0:\n",
    "            rated_indices.append(i)\n",
    "    return np.transpose(rated_indices)"
   ]
  },
  {
   "cell_type": "code",
   "execution_count": 61,
   "metadata": {
    "collapsed": true
   },
   "outputs": [],
   "source": [
    "# Return average from the given ratings\n",
    "def return_average(test):\n",
    "    return np.sum(test)/np.count_nonzero(test)"
   ]
  },
  {
   "cell_type": "code",
   "execution_count": 62,
   "metadata": {
    "collapsed": true
   },
   "outputs": [],
   "source": [
    "# Return modified train matrix\n",
    "def modified_train_matrix(train):\n",
    "    for i in range(200):\n",
    "        avg = return_average(train[i])\n",
    "        for j in range(1000):\n",
    "            if train[i][j] != 0:\n",
    "                train[i][j] -= avg\n",
    "    return train"
   ]
  },
  {
   "cell_type": "code",
   "execution_count": 63,
   "metadata": {
    "collapsed": true
   },
   "outputs": [],
   "source": [
    "# Return cosine similarity between ratings of test and train user\n",
    "def find_cosine_similarity(vec1,vec2):\n",
    "    return np.dot(vec1,vec2)/(la.norm(vec1)*la.norm(vec2))"
   ]
  },
  {
   "cell_type": "code",
   "execution_count": 64,
   "metadata": {
    "collapsed": true
   },
   "outputs": [],
   "source": [
    "# Predict rating\n",
    "def predict_rating_for_one_item(test, weights):\n",
    "    nr = 0\n",
    "    dr = 0\n",
    "    k = len(weights)\n",
    "    if k > 0:\n",
    "        for i in range(k):\n",
    "            nr += weights[i][0]*test[weights[i][1]]\n",
    "            dr += weights[i][0]\n",
    "        x = int(round(nr/dr))\n",
    "        if x > 5:\n",
    "            x = 5\n",
    "        elif x < 1:\n",
    "            x = 1\n",
    "    else:\n",
    "        x = int(round(return_average(test)))\n",
    "    return x"
   ]
  },
  {
   "cell_type": "code",
   "execution_count": 65,
   "metadata": {
    "collapsed": true
   },
   "outputs": [],
   "source": [
    "# Get list of similar items for one test user\n",
    "def get_ratings_of_items(train, test, test_indexes):\n",
    "    rating = []\n",
    "    ind = get_rated_indices(test)\n",
    "    for i in test_indexes:\n",
    "        sim = []\n",
    "        weights = []\n",
    "        for j in ind:\n",
    "            if num_coexisting_ratings(train[i], train[j]) > 0:\n",
    "                weights.append([find_cosine_similarity(train[j],train[i]), j])\n",
    "        rating.append(predict_rating_for_one_item(test, weights))\n",
    "    return np.transpose(rating)"
   ]
  },
  {
   "cell_type": "code",
   "execution_count": 66,
   "metadata": {
    "collapsed": true
   },
   "outputs": [],
   "source": [
    "# Replace zeros with predicted ratings\n",
    "def insert_predicted_ratings(org_data, startindex, ratingsarray):\n",
    "    for i in range(len(ratingsarray)):\n",
    "        org_data[startindex][2] = ratingsarray[i]\n",
    "        startindex += 1\n",
    "    return startindex, org_data"
   ]
  },
  {
   "cell_type": "markdown",
   "metadata": {},
   "source": [
    "## Generate result files"
   ]
  },
  {
   "cell_type": "code",
   "execution_count": 67,
   "metadata": {},
   "outputs": [],
   "source": [
    "traindata = get_train_data()\n",
    "org_test_data, test_indexes, testdata = get_test_data('test5')\n",
    "ind = 0\n",
    "for i in range(100):\n",
    "    rat = get_ratings_of_items(np.transpose(traindata), testdata[i], test_indexes[i])\n",
    "    ind, org_test_data = insert_predicted_ratings(org_test_data, ind+5, rat)\n",
    "np.savetxt('output/test5.txt', org_test_data, fmt='%d')"
   ]
  },
  {
   "cell_type": "code",
   "execution_count": 68,
   "metadata": {},
   "outputs": [],
   "source": [
    "traindata = get_train_data()\n",
    "org_test_data, test_indexes, testdata = get_test_data('test10')\n",
    "ind = 0\n",
    "for i in range(100):\n",
    "    rat = get_ratings_of_items(np.transpose(traindata), testdata[i], test_indexes[i])\n",
    "    ind, org_test_data = insert_predicted_ratings(org_test_data, ind+10, rat)\n",
    "np.savetxt('output/test10.txt', org_test_data, fmt='%d')"
   ]
  },
  {
   "cell_type": "code",
   "execution_count": 69,
   "metadata": {
    "collapsed": true
   },
   "outputs": [],
   "source": [
    "traindata = get_train_data()\n",
    "org_test_data, test_indexes, testdata = get_test_data('test20')\n",
    "ind = 0\n",
    "for i in range(100):\n",
    "    rat = get_ratings_of_items(np.transpose(traindata), testdata[i], test_indexes[i])\n",
    "    ind, org_test_data = insert_predicted_ratings(org_test_data, ind+20, rat)\n",
    "np.savetxt('output/test20.txt', org_test_data, fmt='%d')"
   ]
  },
  {
   "cell_type": "code",
   "execution_count": null,
   "metadata": {
    "collapsed": true
   },
   "outputs": [],
   "source": []
  }
 ],
 "metadata": {
  "kernelspec": {
   "display_name": "Python 3",
   "language": "python",
   "name": "python3"
  },
  "language_info": {
   "codemirror_mode": {
    "name": "ipython",
    "version": 3
   },
   "file_extension": ".py",
   "mimetype": "text/x-python",
   "name": "python",
   "nbconvert_exporter": "python",
   "pygments_lexer": "ipython3",
   "version": "3.6.2"
  }
 },
 "nbformat": 4,
 "nbformat_minor": 2
}
