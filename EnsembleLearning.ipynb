{
 "cells": [
  {
   "cell_type": "code",
   "execution_count": 8,
   "metadata": {
    "collapsed": true
   },
   "outputs": [],
   "source": [
    "import numpy as np"
   ]
  },
  {
   "cell_type": "code",
   "execution_count": 12,
   "metadata": {
    "collapsed": true
   },
   "outputs": [],
   "source": [
    "def get_test_data(filename):\n",
    "    file = open('train_ensemble/'+filename+'.txt', 'r')\n",
    "    testdata = np.zeros([100,1000])\n",
    "    original_test_data = []\n",
    "    for line in file:\n",
    "        line = line.rstrip('\\n')\n",
    "        l = [int(e) for e in line.split(' ')]\n",
    "        original_test_data.append(l)\n",
    "    file.close()\n",
    "    return original_test_data"
   ]
  },
  {
   "cell_type": "code",
   "execution_count": 13,
   "metadata": {
    "collapsed": true
   },
   "outputs": [],
   "source": [
    "def find_avg(data1, data2):\n",
    "    for i in range(len(data1)):\n",
    "        data1[i][2] = (data1[i][2]+data2[i][2])/2\n",
    "    return data1"
   ]
  },
  {
   "cell_type": "code",
   "execution_count": 14,
   "metadata": {},
   "outputs": [],
   "source": [
    "org_test_data1 = get_test_data('test5_1')\n",
    "org_test_data2 = get_test_data('test5_2')\n",
    "data = find_avg(org_test_data1, org_test_data2)\n",
    "np.savetxt('output/test5_f.txt', data, fmt='%d')"
   ]
  },
  {
   "cell_type": "code",
   "execution_count": 15,
   "metadata": {
    "collapsed": true
   },
   "outputs": [],
   "source": [
    "org_test_data1 = get_test_data('test10_1')\n",
    "org_test_data2 = get_test_data('test10_2')\n",
    "data = find_avg(org_test_data1, org_test_data2)\n",
    "np.savetxt('output/test10_f.txt', data, fmt='%d')"
   ]
  },
  {
   "cell_type": "code",
   "execution_count": 17,
   "metadata": {
    "collapsed": true
   },
   "outputs": [],
   "source": [
    "org_test_data1 = get_test_data('test20_1')\n",
    "org_test_data2 = get_test_data('test20_2')\n",
    "data = find_avg(org_test_data1, org_test_data2)\n",
    "np.savetxt('output/test20_f.txt', data, fmt='%d')"
   ]
  },
  {
   "cell_type": "code",
   "execution_count": null,
   "metadata": {
    "collapsed": true
   },
   "outputs": [],
   "source": []
  }
 ],
 "metadata": {
  "kernelspec": {
   "display_name": "Python 3",
   "language": "python",
   "name": "python3"
  },
  "language_info": {
   "codemirror_mode": {
    "name": "ipython",
    "version": 3
   },
   "file_extension": ".py",
   "mimetype": "text/x-python",
   "name": "python",
   "nbconvert_exporter": "python",
   "pygments_lexer": "ipython3",
   "version": "3.6.2"
  }
 },
 "nbformat": 4,
 "nbformat_minor": 2
}
